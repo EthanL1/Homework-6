{
 "cells": [
  {
   "cell_type": "code",
   "execution_count": 1,
   "metadata": {
    "collapsed": true
   },
   "outputs": [],
   "source": [
    "import json\n",
    "import requests as req\n",
    "import pandas as pd\n",
    "import matplotlib.pyplot as plt\n",
    "import numpy as np\n",
    "from citipy import citipy\n",
    "import random \n",
    "import decimal"
   ]
  },
  {
   "cell_type": "code",
   "execution_count": 2,
   "metadata": {},
   "outputs": [
    {
     "name": "stdout",
     "output_type": "stream",
     "text": [
      "{\n",
      "    \"base\": \"stations\",\n",
      "    \"clouds\": {\n",
      "        \"all\": 75\n",
      "    },\n",
      "    \"cod\": 200,\n",
      "    \"coord\": {\n",
      "        \"lat\": 33.67,\n",
      "        \"lon\": -117.82\n",
      "    },\n",
      "    \"dt\": 1512354360,\n",
      "    \"id\": 5359777,\n",
      "    \"main\": {\n",
      "        \"humidity\": 87,\n",
      "        \"pressure\": 1015,\n",
      "        \"temp\": 288.15,\n",
      "        \"temp_max\": 290.15,\n",
      "        \"temp_min\": 285.15\n",
      "    },\n",
      "    \"name\": \"Irvine\",\n",
      "    \"sys\": {\n",
      "        \"country\": \"US\",\n",
      "        \"id\": 485,\n",
      "        \"message\": 0.006,\n",
      "        \"sunrise\": 1512398441,\n",
      "        \"sunset\": 1512434559,\n",
      "        \"type\": 1\n",
      "    },\n",
      "    \"visibility\": 12874,\n",
      "    \"weather\": [\n",
      "        {\n",
      "            \"description\": \"broken clouds\",\n",
      "            \"icon\": \"04n\",\n",
      "            \"id\": 803,\n",
      "            \"main\": \"Clouds\"\n",
      "        }\n",
      "    ],\n",
      "    \"wind\": {\n",
      "        \"deg\": 197,\n",
      "        \"speed\": 1.16\n",
      "    }\n",
      "}\n"
     ]
    }
   ],
   "source": [
    "\n",
    "api_key = 'e49020bc745592e6faec88f330db1b5b'\n",
    "url = \"http://api.openweathermap.org/data/2.5/weather?\"\n",
    "city = \"Irvine\"\n",
    "\n",
    "# Build query URL\n",
    "query_url = url + \"appid=\" + api_key + \"&q=\" + city\n",
    "\n",
    "response = req.get(query_url).json()\n",
    "\n",
    "print(json.dumps(response, indent= 4, sort_keys=True))"
   ]
  },
  {
   "cell_type": "code",
   "execution_count": null,
   "metadata": {
    "collapsed": true
   },
   "outputs": [],
   "source": [
    "cities1 = pd.read_csv(\"https://raw.githubusercontent.com/wingchen/citipy/master/citipy/worldcities.csv\")\n",
    "cities1.radd"
   ]
  },
  {
   "cell_type": "code",
   "execution_count": 7,
   "metadata": {
    "collapsed": true
   },
   "outputs": [],
   "source": [
    "#create random longitude numbers for data \n",
    "created_long = []\n",
    "for i in range(0,500,1):\n",
    "    random_long=random.randint(-180.00,180.00)\n",
    "    decimal = random.random()\n",
    "    random_long_combined = float(random_long) + decimal\n",
    "    random_long_combined = round(random_long_combined,2)\n",
    "    created_long.append(random_long_combined)\n"
   ]
  },
  {
   "cell_type": "code",
   "execution_count": 8,
   "metadata": {
    "collapsed": true
   },
   "outputs": [],
   "source": [
    "#create random latitude numbers for dataset\n",
    "created_lat = []\n",
    "for i in range(0,500,1):\n",
    "    random_lat=random.randint(-90.00,90.00)\n",
    "    decimal = random.random()\n",
    "    random_lat_combined = float(random_lat) + decimal\n",
    "    random_lat_combined = round(random_lat_combined,2)\n",
    "    created_lat.append(random_lat_combined)"
   ]
  },
  {
   "cell_type": "code",
   "execution_count": 6,
   "metadata": {
    "collapsed": true
   },
   "outputs": [],
   "source": [
    "#turn lat,long list into tuples so data becomes fixed\n",
    "fixed_lat = tuple(created_lat)\n",
    "fixed_long = tuple(created_long)"
   ]
  },
  {
   "cell_type": "code",
   "execution_count": null,
   "metadata": {},
   "outputs": [],
   "source": [
    "counter = 0\n",
    "cities_name = []\n",
    "for i in range(0, len(created_lat):\n",
    "    for x in  range(0, len(created_long):\n",
    "        row_lat = i\n",
    "        row_long = x \n",
    "        cities_name_loop = citipy.nearest_city(i,x)\n",
    "        cities_name_final = cities_name_loop.city_name\n",
    "        cities_name.append(cities_name_final)\n",
    "        print(cities_name_final)\n"
   ]
  },
  {
   "cell_type": "code",
   "execution_count": null,
   "metadata": {},
   "outputs": [],
   "source": [
    "print(cities)name"
   ]
  },
  {
   "cell_type": "code",
   "execution_count": null,
   "metadata": {},
   "outputs": [
    {
     "name": "stderr",
     "output_type": "stream",
     "text": [
      "IOPub data rate exceeded.\n",
      "The notebook server will temporarily stop sending output\n",
      "to the client in order to avoid crashing it.\n",
      "To change this limit, set the config variable\n",
      "`--NotebookApp.iopub_data_rate_limit`.\n"
     ]
    }
   ],
   "source": []
  },
  {
   "cell_type": "code",
   "execution_count": null,
   "metadata": {
    "collapsed": true
   },
   "outputs": [],
   "source": []
  }
 ],
 "metadata": {
  "kernelspec": {
   "display_name": "Python [conda root]",
   "language": "python",
   "name": "conda-root-py"
  },
  "language_info": {
   "codemirror_mode": {
    "name": "ipython",
    "version": 3
   },
   "file_extension": ".py",
   "mimetype": "text/x-python",
   "name": "python",
   "nbconvert_exporter": "python",
   "pygments_lexer": "ipython3",
   "version": "3.6.2"
  }
 },
 "nbformat": 4,
 "nbformat_minor": 2
}
